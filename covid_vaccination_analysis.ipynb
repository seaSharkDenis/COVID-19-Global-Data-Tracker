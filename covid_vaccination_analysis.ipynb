{
 "cells": [
  {
   "cell_type": "markdown",
   "id": "51d3aef2",
   "metadata": {},
   "source": [
    "# COVID-19 Vaccination Progress Analysis\n",
    "\n",
    "This notebook analyzes COVID-19 vaccination data from the 'Our World in Data' dataset. We explore the vaccination rollout across selected countries, focusing on cumulative counts and percentage of the population vaccinated over time."
   ]
  },
  {
   "cell_type": "code",
   "execution_count": null,
   "id": "c010cae4",
   "metadata": {},
   "outputs": [],
   "source": [
    "import pandas as pd\n",
    "import matplotlib.pyplot as plt\n",
    "\n",
    "df = pd.read_csv('owid-covid-data.csv', parse_dates=['date'])\n",
    "print(df.columns)\n",
    "# print(df.head())\n",
    "# print(df.describe())\n",
    "\n",
    "df = df[df['continent'].notnull()]\n",
    "\n",
    "# Filter for relevant columns\n",
    "columns_to_keep = ['location', 'date', 'total_cases', 'new_cases','total_deaths',\n",
    "                   'new_deaths', 'total_vaccinations', 'people_fully_vaccinated', \n",
    "                   'people_vaccinated_per_hundred', 'population'\n",
    "                ]\n",
    "\n",
    "df = df[columns_to_keep]\n",
    "df = df.dropna(subset=['new_cases'])"
   ]
  },
  {
   "cell_type": "markdown",
   "id": "5ed4d323",
   "metadata": {},
   "source": [
    "# Daily COVID-19 Cases in Kenya (March 2021)"
   ]
  },
  {
   "cell_type": "code",
   "execution_count": null,
   "id": "d940a5f2",
   "metadata": {},
   "outputs": [],
   "source": [
    "# You can edit the parameters to get specific information\n",
    "# parameters to use\n",
    "country = 'Kenya'\n",
    "month = '2021-03'\n",
    "\n",
    "# Filter data\n",
    "daily_month = df[(df['location']==country) & (df['date'].dt.strftime('%Y-%m')== month)]\n",
    "\n",
    "# plot\n",
    "plt.figure(figsize=(12,6))\n",
    "plt.plot(daily_month['date'], daily_month['new_cases'],marker='o')\n",
    "plt.title(f'Daily COVID-19 Cases in {country} - {month}')\n",
    "plt.xlabel('Date')\n",
    "plt.ylabel('New Cases')\n",
    "plt.xticks(rotation=45)\n",
    "plt.grid(True)\n",
    "plt.tight_layout()\n",
    "plt.show()"
   ]
  },
  {
   "cell_type": "markdown",
   "id": "656c44d7",
   "metadata": {},
   "source": [
    "### Insight:\n",
    "- Kenya experienced a noticeable surge in daily reported cases in March 2021.\n",
    "- The trend shows an upward trajectory starting mid-March, indicating the onset of a COVID-19 wave.\n",
    "- This period corresponds to the start of Kenya’s third wave, driven by community transmission and the emergence of variants."
   ]
  },
  {
   "cell_type": "markdown",
   "id": "472771b0",
   "metadata": {},
   "source": [
    "# Monthly COVID-19 Cases in Kenya (2021)"
   ]
  },
  {
   "cell_type": "code",
   "execution_count": null,
   "id": "dab19666",
   "metadata": {},
   "outputs": [],
   "source": [
    "# Monthly Cases in a Year in One Country\n",
    "year = 2021\n",
    "\n",
    "# Filter and group\n",
    "monthly = df[(df['location']== country) & (df['date'].dt.year==year)]\n",
    "monthly_grouped = monthly.groupby(monthly['date'].dt.to_period('M'))['new_cases'].sum().reset_index()\n",
    "monthly_grouped['date'] = monthly_grouped['date'].dt.to_timestamp()\n",
    "\n",
    "# Plot\n",
    "plt.figure(figsize=(12, 6))\n",
    "plt.bar(monthly_grouped['date'], monthly_grouped['new_cases'], width=20)\n",
    "plt.title(f'Monthly COVID-19 Cases in {country} - {year}')\n",
    "plt.xlabel('Month')\n",
    "plt.ylabel('New Cases')\n",
    "plt.xticks(rotation=45)\n",
    "plt.tight_layout()\n",
    "plt.show()"
   ]
  },
  {
   "cell_type": "markdown",
   "id": "af6a351d",
   "metadata": {},
   "source": [
    "### Insight:\n",
    "- Peaks were observed in March and August 2021, reflecting Kenya's third and fourth waves.\n",
    "- The highest number of monthly cases was in August, likely due to the Delta variant.\n",
    "- Cases dropped significantly after September, likely influenced by increased public awareness and initial vaccination efforts.\n"
   ]
  },
  {
   "cell_type": "markdown",
   "id": "4c18efdd",
   "metadata": {},
   "source": [
    "# Daily COVID-19 Cases (All Countries, March 1–31, 2021)"
   ]
  },
  {
   "cell_type": "code",
   "execution_count": null,
   "id": "946e1c82",
   "metadata": {},
   "outputs": [],
   "source": [
    "# Daily Comparison Between Two or More Countries\n",
    "# Parameters\n",
    "countries = ['Kenya', 'Uganda', 'Tanzania']\n",
    "start_date = '2021-03-01'\n",
    "end_date = '2021-03-31'\n",
    "\n",
    "compare_daily = df[\n",
    "    (df['location'].isin(countries))&\n",
    "    (df['date']>= start_date) &\n",
    "    (df['date']<= end_date)\n",
    "]\n",
    "\n",
    "pivot_daily = compare_daily.pivot(index='date', columns='location', values='new_cases')\n",
    "\n",
    "# Plot\n",
    "plt.figure(figsize=(12,6))\n",
    "for country in countries:\n",
    "    plt.plot(pivot_daily.index, pivot_daily[country], label=country)\n",
    "plt.title(f'Daily COVID-19 Cases: {start_date} to {end_date}')\n",
    "plt.xlabel('Date')\n",
    "plt.ylabel('New Cases')\n",
    "plt.legend()\n",
    "plt.xticks(rotation=45)\n",
    "plt.tight_layout()\n",
    "plt.show()"
   ]
  },
  {
   "cell_type": "markdown",
   "id": "a496b023",
   "metadata": {},
   "source": [
    "### Insight:\n",
    "- South Africa consistently reported the highest number of daily cases compared to Kenya, Uganda, and Tanzania.\n",
    "- Kenya's daily cases increased steadily, showing a sharper rise than Uganda or Tanzania.\n",
    "- Tanzania showed little or no reported cases—likely due to lack of reporting or underreporting during that period.\n"
   ]
  },
  {
   "cell_type": "markdown",
   "id": "59eff413",
   "metadata": {},
   "source": [
    "# Monthly COVID-19 Case Comparison (2021)"
   ]
  },
  {
   "cell_type": "code",
   "execution_count": 18,
   "id": "2a7d5937",
   "metadata": {},
   "outputs": [],
   "source": [
    "# Monthly Comparison Between two or More countries\n",
    "df['month'] = df['date'].dt.to_period('M')\n",
    "\n",
    "# Filter\n",
    "monthly_compare = df[df['location'].isin(countries)]\n",
    "monthly_group = monthly_compare.groupby(['month','location'])['new_cases'].sum().reset_index()\n",
    "monthly_group['month'] = monthly_group['month'].dt.to_timestamp()\n",
    "\n",
    "# Pivot\n",
    "pivot_monthly = monthly_group.pivot(index='month', columns='location', values='new_cases')\n",
    "\n",
    "# Plot\n",
    "plt.figure(figsize=(12,6))\n",
    "for country in countries:\n",
    "    plt.plot(pivot_monthly.index, pivot_monthly[country], marker='o', label=country)\n",
    "plt.title('Monthly COVID-19 Case Comparison')\n",
    "plt.xlabel('Month')\n",
    "plt.ylabel('New Cases')\n",
    "plt.legend()\n",
    "plt.xticks(rotation=45)\n",
    "plt.tight_layout()\n",
    "plt.show()"
   ]
  },
  {
   "cell_type": "markdown",
   "id": "2b8256c7",
   "metadata": {},
   "source": [
    "### Insight:\n",
    "- Peaks were observed in March and August 2021, reflecting Kenya's third and fourth waves.\n",
    "- The highest number of monthly cases was in August, likely due to the Delta variant.\n",
    "- Cases dropped significantly after September, likely influenced by increased public awareness and initial vaccination efforts.\n"
   ]
  },
  {
   "cell_type": "markdown",
   "id": "a3857fac",
   "metadata": {},
   "source": [
    "## Cumulative Vaccination Progress Over Time"
   ]
  },
  {
   "cell_type": "code",
   "execution_count": null,
   "id": "cc817d5e",
   "metadata": {},
   "outputs": [],
   "source": [
    "df = df.dropna(subset=['total_vaccinations'])\n",
    "\n",
    "# List of countries to compare\n",
    "countries= ['Kenya', 'Uganda', 'Tanzania', 'South Africa']\n",
    "\n",
    "# Filter only the selected countries\n",
    "vacc_data = df[df['location'].isin(countries)]\n",
    "\n",
    "# Pivot the data for easy plotting\n",
    "pivot_vacc = vacc_data.pivot(index='date', columns='location', values='total_vaccinations')\n",
    "\n",
    "# Plotting\n",
    "plt.figure(figsize=(14,7))\n",
    "\n",
    "for country in countries:\n",
    "    plt.plot(pivot_vacc.index, pivot_vacc[country], label=country)\n",
    "plt.title('Cumulative COVID-19 Vaccination Over Time')\n",
    "plt.xlabel('Date')\n",
    "plt.ylabel('Total Vaccinations')\n",
    "plt.legend()\n",
    "plt.xticks(rotation=45)\n",
    "plt.grid(True)\n",
    "plt.tight_layout()\n",
    "plt.show()"
   ]
  },
  {
   "cell_type": "markdown",
   "id": "fbcdaab6",
   "metadata": {},
   "source": [
    "#### Insight:\n",
    "- South Africa had the most consistent and rapid vaccine rollout among the selected countries.\n",
    "- Kenya followed with moderate progress, while Uganda and Tanzania administered fewer total doses.\n",
    "- Acceleration in mid-2021 likely corresponds with global vaccine shipments and COVAX efforts."
   ]
  },
  {
   "cell_type": "markdown",
   "id": "e344ab3c",
   "metadata": {},
   "source": [
    "## Percentage of Population Vaccinated"
   ]
  },
  {
   "cell_type": "code",
   "execution_count": null,
   "id": "e86523cb",
   "metadata": {},
   "outputs": [],
   "source": [
    "# Compare % Vaccinated Population\n",
    "df = df[['location', 'date', 'people_vaccinated_per_hundred']]\n",
    "df = df.dropna(subset=('people_vaccinated_per_hundred'))\n",
    "\n",
    "# Choose countries\n",
    "countries = ['Kenya', 'Uganda', 'Tanzania', 'South Africa']\n",
    "\n",
    "# Filter data\n",
    "df_vax = df[df['location'].isin(countries)]\n",
    "\n",
    "# Pivot for plotting\n",
    "pivot_percent = df_vax.pivot(index='date', columns='location', values='people_vaccinated_per_hundred')\n",
    "\n",
    "plt.figure(figsize=(14,7))\n",
    "\n",
    "for country in countries:\n",
    "    plt.plot(pivot_percent.index, pivot_percent[country], label=country)\n",
    "\n",
    "plt.title('COVID-19 Vaccination Progress (% of Population Vaccination)')\n",
    "plt.xlabel('Date')\n",
    "plt.ylabel('% Vaccinated (At Least One Dose)')\n",
    "plt.legend()\n",
    "plt.grid(True)\n",
    "plt.xticks(rotation=45)\n",
    "plt.tight_layout()\n",
    "plt.show()"
   ]
  },
  {
   "cell_type": "markdown",
   "id": "736bd6ad",
   "metadata": {},
   "source": [
    "#### Insight:\n",
    "- South Africa leads in % vaccinated, reaching over 40%.\n",
    "- Tanzania had a delayed and minimal uptake, staying under 10% for much of the time.\n",
    "- Kenya had a rapid rise between August–October 2021, possibly tied to new public health campaigns.z"
   ]
  },
  {
   "cell_type": "markdown",
   "id": "165cc821",
   "metadata": {},
   "source": [
    "## Anomalies & Notable Patterns\n",
    "\n",
    "#### Anomalies:\n",
    "- Tanzania reported no data early on, reflecting national policies.\n",
    "- Uganda had flat lines likely due to inconsistent data collection.\n",
    "\n",
    "#### Interesting Pattern:\n",
    "- Spikes in vaccination often came just before or during COVID-19 waves."
   ]
  },
  {
   "cell_type": "markdown",
   "id": "c3085e78",
   "metadata": {},
   "source": [
    "## Conclusion\n",
    "\n",
    "Vaccination strategies and outcomes varied by country. South Africa led in both speed and scale. Kenya and Uganda improved steadily. Tanzania lagged in both timing and coverage, likely due to initial vaccine hesitancy.\n",
    "\n",
    "Understanding these trends can help shape better preparedness and equitable vaccine distribution in future public health crises."
   ]
  }
 ],
 "metadata": {
  "kernelspec": {
   "display_name": "Python 3",
   "language": "python",
   "name": "python3"
  },
  "language_info": {
   "codemirror_mode": {
    "name": "ipython",
    "version": 3
   },
   "file_extension": ".py",
   "mimetype": "text/x-python",
   "name": "python",
   "nbconvert_exporter": "python",
   "pygments_lexer": "ipython3",
   "version": "3.13.3"
  }
 },
 "nbformat": 4,
 "nbformat_minor": 5
}
